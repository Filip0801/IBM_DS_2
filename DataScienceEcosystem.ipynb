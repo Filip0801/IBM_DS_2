{
 "cells": [
  {
   "cell_type": "markdown",
   "id": "b17b1243",
   "metadata": {},
   "source": [
    "# Data Science Tools and Ecosystem"
   ]
  },
  {
   "cell_type": "markdown",
   "id": "368aebc5",
   "metadata": {},
   "source": [
    "In this notebook, Data Science Tools and Ecosystem are summarized."
   ]
  },
  {
   "cell_type": "markdown",
   "id": "af458849",
   "metadata": {},
   "source": [
    "*Objectives:*\n",
    "- Learn Python\n",
    "- Learn to apply the necessary libraries and understand the differences for each use case\n",
    "- Learn fundaments about machine, deep learning and aritificial intelligence\n",
    "- Learn SQL\n",
    "- Become a skilled data scientist, in order to find a data scientist job"
   ]
  },
  {
   "cell_type": "markdown",
   "id": "fe6d2a16",
   "metadata": {},
   "source": [
    "Some of the commonly used languages used by a Data Scientists include:"
   ]
  },
  {
   "cell_type": "markdown",
   "id": "966dfe88",
   "metadata": {},
   "source": [
    "1. Python\n",
    "2. Julia\n",
    "3. R\n",
    "4. Java\n",
    "5. C++\n",
    "6. SQL"
   ]
  },
  {
   "cell_type": "markdown",
   "id": "390b6553",
   "metadata": {},
   "source": [
    "Some of the commonly used libraries used by Data Scientists include:"
   ]
  },
  {
   "cell_type": "markdown",
   "id": "02e7129f",
   "metadata": {},
   "source": [
    "1. Pytorch\n",
    "2. Numpy\n",
    "3. Pandas\n",
    "4. Scikit\n",
    "5. Matplotlib\n",
    "6. TensorFlow"
   ]
  },
  {
   "cell_type": "markdown",
   "id": "5c294fb3",
   "metadata": {},
   "source": [
    "| Data Science Tools |\n",
    "| :--- |\n",
    "| Visual Studio Code |\n",
    "| Jupyter Labs |\n",
    "| Jupyter Notebooks |\n",
    "| PyCharm |"
   ]
  },
  {
   "cell_type": "markdown",
   "id": "e83de460",
   "metadata": {},
   "source": [
    "### Below are a few examples of evaluating arithmetic expressions in Python:"
   ]
  },
  {
   "cell_type": "code",
   "execution_count": 11,
   "id": "2aea107e",
   "metadata": {},
   "outputs": [
    {
     "name": "stdout",
     "output_type": "stream",
     "text": [
      "17\n"
     ]
    }
   ],
   "source": [
    "#This is a simple arithmetic expression to multiply then add integers\n",
    "x = (3*4)+5\n",
    "print (x)"
   ]
  },
  {
   "cell_type": "code",
   "execution_count": 17,
   "id": "cb303c10",
   "metadata": {},
   "outputs": [
    {
     "name": "stdout",
     "output_type": "stream",
     "text": [
      "3.33\n"
     ]
    }
   ],
   "source": [
    "#This will convert 200 minutes to hours by dividing by 60\n",
    "x = 200/60\n",
    "print (round(x,2))"
   ]
  },
  {
   "cell_type": "markdown",
   "id": "1f38756e",
   "metadata": {},
   "source": [
    "## Author\n",
    "Filip Jojovic"
   ]
  },
  {
   "cell_type": "code",
   "execution_count": null,
   "id": "da8010a5",
   "metadata": {},
   "outputs": [],
   "source": []
  }
 ],
 "metadata": {
  "kernelspec": {
   "display_name": "Python",
   "language": "python",
   "name": "conda-env-python-py"
  },
  "language_info": {
   "codemirror_mode": {
    "name": "ipython",
    "version": 3
   },
   "file_extension": ".py",
   "mimetype": "text/x-python",
   "name": "python",
   "nbconvert_exporter": "python",
   "pygments_lexer": "ipython3",
   "version": "3.7.12"
  }
 },
 "nbformat": 4,
 "nbformat_minor": 5
}
